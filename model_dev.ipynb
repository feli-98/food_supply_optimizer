{
 "cells": [
  {
   "cell_type": "code",
   "execution_count": null,
   "id": "b1b39c59-608e-42ea-bac9-c230168beed1",
   "metadata": {},
   "outputs": [],
   "source": [
    "# 🥦 Food Supply Optimizer — Model Development\n",
    "\n",
    "#This notebook explores a simulated food allocation dataset and trains a regression model to predict regional food deficits based on surplus, distance, perishability, and other supply chain factors. The goal is to support smarter, data-driven food distribution aligned with SDG 2 (Zero Hunger) and SDG 12 (Responsible Consumption and Production)."
   ]
  },
  {
   "cell_type": "code",
   "execution_count": null,
   "id": "204eb920-dd54-47c9-ab16-f2f6ec8f62a1",
   "metadata": {},
   "outputs": [],
   "source": [
    "import pandas as pd\n",
    "import numpy as np\n",
    "import matplotlib.pyplot as plt\n",
    "import seaborn as sns\n",
    "\n",
    "from sklearn.linear_model import LinearRegression\n",
    "from sklearn.model_selection import train_test_split\n",
    "from sklearn.metrics import mean_absolute_error, mean_squared_error, r2_score"
   ]
  },
  {
   "cell_type": "code",
   "execution_count": null,
   "id": "74ac6059-8b82-4583-974b-6d2cc176726b",
   "metadata": {},
   "outputs": [],
   "source": [
    "df = pd.read_csv('food_allocation.csv')\n",
    "df.head()"
   ]
  },
  {
   "cell_type": "code",
   "execution_count": null,
   "id": "b7069267-3453-4007-a8d7-6612f5ed2166",
   "metadata": {},
   "outputs": [],
   "source": [
    "df.info()\n",
    "df.describe()"
   ]
  },
  {
   "cell_type": "code",
   "execution_count": null,
   "id": "effaae9c-422a-4e09-9577-586f12db3d0b",
   "metadata": {},
   "outputs": [],
   "source": [
    "sns.pairplot(df[['surplus', 'deficit', 'distance_km', 'cost_per_km', 'market_price']])\n",
    "plt.suptitle(\"Feature Relationships\", y=1.02)\n",
    "plt.show()"
   ]
  },
  {
   "cell_type": "code",
   "execution_count": null,
   "id": "9daf1d59-0a0a-4892-8f21-0214299de015",
   "metadata": {},
   "outputs": [],
   "source": [
    "X = df[['surplus', 'distance_km', 'cost_per_km', 'perishability', 'population', 'market_price']]\n",
    "y = df['deficit']\n",
    "\n",
    "X_train, X_test, y_train, y_test = train_test_split(X, y, test_size=0.2, random_state=42)"
   ]
  },
  {
   "cell_type": "code",
   "execution_count": null,
   "id": "a10f1f76-2bc7-4c75-a897-021c68ba41d8",
   "metadata": {},
   "outputs": [],
   "source": [
    "model = LinearRegression()\n",
    "model.fit(X_train, y_train)"
   ]
  },
  {
   "cell_type": "code",
   "execution_count": null,
   "id": "858325d2-cbc3-41b9-9174-f10ef63074ef",
   "metadata": {},
   "outputs": [],
   "source": [
    "y_pred = model.predict(X_test)\n",
    "\n",
    "print(\"MAE:\", round(mean_absolute_error(y_test, y_pred), 2))\n",
    "print(\"MSE:\", round(mean_squared_error(y_test, y_pred), 2))\n",
    "print(\"R² Score:\", round(r2_score(y_test, y_pred), 3))"
   ]
  },
  {
   "cell_type": "code",
   "execution_count": null,
   "id": "35f6d20a-7e3a-47fd-8988-189baa1e84ff",
   "metadata": {},
   "outputs": [],
   "source": [
    "import joblib\n",
    "joblib.dump(model, 'food_model.joblib')\n",
    "print(\"✅ Model saved as food_model.joblib\")"
   ]
  },
  {
   "cell_type": "code",
   "execution_count": null,
   "id": "746a0c57-ba3e-46ae-9445-fbd1b354a79f",
   "metadata": {},
   "outputs": [],
   "source": []
  }
 ],
 "metadata": {
  "kernelspec": {
   "display_name": "Python 3.12.2 (venv)",
   "language": "python",
   "name": "venv"
  },
  "language_info": {
   "codemirror_mode": {
    "name": "ipython",
    "version": 3
   },
   "file_extension": ".py",
   "mimetype": "text/x-python",
   "name": "python",
   "nbconvert_exporter": "python",
   "pygments_lexer": "ipython3",
   "version": "3.12.2"
  }
 },
 "nbformat": 4,
 "nbformat_minor": 5
}
